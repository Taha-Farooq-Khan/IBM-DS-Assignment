{
 "cells": [
  {
   "cell_type": "markdown",
   "id": "711565e2-aca4-441c-9fd5-5637e8927292",
   "metadata": {},
   "source": [
    "# Data Science Tools and Ecosystem"
   ]
  },
  {
   "cell_type": "markdown",
   "id": "7c8e4964-588f-429f-abb1-25ac3810248c",
   "metadata": {},
   "source": [
    "In this notebook, Data Science Tools and Ecosystem are summarized."
   ]
  },
  {
   "cell_type": "markdown",
   "id": "9c013f56-a851-40ec-8487-34caf342da6f",
   "metadata": {},
   "source": [
    "**Objectives:**\n",
    "- List popular languages for Data Science\n",
    "- List popular tools for Data Science\n",
    "- Basic arithmatic expressions in Python"
   ]
  },
  {
   "cell_type": "markdown",
   "id": "e80aac2d-a7da-48c1-a7af-4fccc3d5aa06",
   "metadata": {},
   "source": [
    "## Author\n",
    "Taha Farooq"
   ]
  },
  {
   "cell_type": "markdown",
   "id": "0397f74a-46a4-4aa4-9dfe-47a4bced0c04",
   "metadata": {},
   "source": [
    "Some of the popular languages that Data Scientists use are:\n",
    "1. Python\n",
    "2. R\n",
    "3. Julia\n",
    "4. Scala"
   ]
  },
  {
   "cell_type": "markdown",
   "id": "98d142e4-9841-4fe4-8f92-11f1ac2b9c2b",
   "metadata": {},
   "source": [
    "Some of the commonly used libraries used by Data Scientists include:\n",
    "1. Pandas\n",
    "2. Numpy\n",
    "3. Matplot\n",
    "4. Seaborn"
   ]
  },
  {
   "cell_type": "markdown",
   "id": "4e06a441-af48-43a6-8d31-d72ef8e593af",
   "metadata": {},
   "source": [
    "|Data Science Tools|\n",
    "|------------------|\n",
    "|Jupyter|\n",
    "|R Studio|\n",
    "|Git|\n",
    "\n"
   ]
  },
  {
   "cell_type": "markdown",
   "id": "463fddc1-d63f-4348-a073-782b98f2e882",
   "metadata": {},
   "source": [
    "### Below are a few examples of evaluating arithmetic expressions in Python"
   ]
  },
  {
   "cell_type": "code",
   "execution_count": 1,
   "id": "fe16c149-5258-41f0-bb8f-b044751638c5",
   "metadata": {},
   "outputs": [
    {
     "data": {
      "text/plain": [
       "17"
      ]
     },
     "execution_count": 1,
     "metadata": {},
     "output_type": "execute_result"
    }
   ],
   "source": [
    "# This a simple arithmetic expression to mutiply then add integers.\n",
    "(3*4)+5"
   ]
  },
  {
   "cell_type": "code",
   "execution_count": 2,
   "id": "88d94aca-ddd3-454a-a432-15c0a2ac93d4",
   "metadata": {},
   "outputs": [
    {
     "data": {
      "text/plain": [
       "3.3333333333333335"
      ]
     },
     "execution_count": 2,
     "metadata": {},
     "output_type": "execute_result"
    }
   ],
   "source": [
    "# This will convert 200 minutes to hours by diving by 60.\n",
    "200/60"
   ]
  },
  {
   "cell_type": "code",
   "execution_count": null,
   "id": "a4fd447e-8b0b-415e-9d03-b5d628c81af9",
   "metadata": {},
   "outputs": [],
   "source": []
  }
 ],
 "metadata": {
  "kernelspec": {
   "display_name": "Python 3 (ipykernel)",
   "language": "python",
   "name": "python3"
  },
  "language_info": {
   "codemirror_mode": {
    "name": "ipython",
    "version": 3
   },
   "file_extension": ".py",
   "mimetype": "text/x-python",
   "name": "python",
   "nbconvert_exporter": "python",
   "pygments_lexer": "ipython3",
   "version": "3.12.4"
  }
 },
 "nbformat": 4,
 "nbformat_minor": 5
}
